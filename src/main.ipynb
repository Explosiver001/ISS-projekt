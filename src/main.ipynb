{
 "cells": [
  {
   "cell_type": "code",
   "execution_count": 1,
   "metadata": {
    "collapsed": true
   },
   "outputs": [],
   "source": [
    "import numpy as np\n",
    "import soundfile as sf\n",
    "MIDIFROM = 24\n",
    "MIDITO = 108\n",
    "SKIP_SEC = 0.25\n",
    "HOWMUCH_SEC = 0.5\n",
    "WHOLETONE_SEC = 2\n",
    "howmanytones = MIDITO - MIDIFROM + 1\n",
    "tones = np.arange(MIDIFROM, MIDITO+1)\n",
    "s, Fs = sf.read(\"../audio/klavir.wav\")\n",
    "N = int(Fs * HOWMUCH_SEC)\n",
    "Nwholetone = int(Fs * WHOLETONE_SEC)\n",
    "xall = np.zeros((MIDITO+1, N)) # matrix with all tones - first signals empty,\n",
    "# but we have plenty of memory ...\n",
    "samplefrom = int(SKIP_SEC * Fs)\n",
    "sampleto = samplefrom + N\n",
    "for tone in tones:\n",
    "    x = s[samplefrom:sampleto]\n",
    "    x = x - np.mean(x) # safer to center ...\n",
    "    xall[tone,:] = x\n",
    "    samplefrom += Nwholetone\n",
    "    sampleto += Nwholetone"
   ]
  },
  {
   "cell_type": "code",
   "execution_count": null,
   "outputs": [],
   "source": [],
   "metadata": {
    "collapsed": false
   }
  }
 ],
 "metadata": {
  "kernelspec": {
   "display_name": "Python 3",
   "language": "python",
   "name": "python3"
  },
  "language_info": {
   "codemirror_mode": {
    "name": "ipython",
    "version": 2
   },
   "file_extension": ".py",
   "mimetype": "text/x-python",
   "name": "python",
   "nbconvert_exporter": "python",
   "pygments_lexer": "ipython2",
   "version": "2.7.6"
  }
 },
 "nbformat": 4,
 "nbformat_minor": 0
}
